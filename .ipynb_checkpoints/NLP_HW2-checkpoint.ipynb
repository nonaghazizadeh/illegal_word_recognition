{
 "cells": [
  {
   "cell_type": "markdown",
   "metadata": {
    "id": "aoPbVdLmGqk8"
   },
   "source": [
    "# <strong><font color=#A52A2A></span> NLP_HW2 </strong>\n",
    "\n",
    "98101566 -> Mohammadreza Daviran\n",
    "<br>\n",
    " -> Nona Ghazizadeh\n",
    "<br>\n",
    " -> Sara Azarnoosh\n",
    "<br>\n",
    "\n",
    "<strong><font color=#B22222></span> Please run this notebook on google colab! </strong>"
   ]
  },
  {
   "cell_type": "code",
   "execution_count": 1,
   "metadata": {
    "colab": {
     "base_uri": "https://localhost:8080/"
    },
    "id": "2QmGLoP_j0D0",
    "outputId": "4344937d-dafa-4a48-cd59-30d92f90cc5c"
   },
   "outputs": [
    {
     "name": "stdout",
     "output_type": "stream",
     "text": [
      "Requirement already satisfied: hazm in /Users/nonaghazizadeh/opt/anaconda3/lib/python3.9/site-packages (0.7.0)\n",
      "Requirement already satisfied: nltk==3.3 in /Users/nonaghazizadeh/opt/anaconda3/lib/python3.9/site-packages (from hazm) (3.3)\n",
      "Requirement already satisfied: libwapiti>=0.2.1 in /Users/nonaghazizadeh/opt/anaconda3/lib/python3.9/site-packages (from hazm) (0.2.1)\n",
      "Requirement already satisfied: six in /Users/nonaghazizadeh/opt/anaconda3/lib/python3.9/site-packages (from nltk==3.3->hazm) (1.15.0)\n",
      "Collecting gdown\n",
      "  Downloading gdown-4.7.1-py3-none-any.whl (15 kB)\n",
      "Requirement already satisfied: beautifulsoup4 in /Users/nonaghazizadeh/opt/anaconda3/lib/python3.9/site-packages (from gdown) (4.11.1)\n",
      "Requirement already satisfied: tqdm in /Users/nonaghazizadeh/opt/anaconda3/lib/python3.9/site-packages (from gdown) (4.64.0)\n",
      "Requirement already satisfied: filelock in /Users/nonaghazizadeh/opt/anaconda3/lib/python3.9/site-packages (from gdown) (3.6.0)\n",
      "Requirement already satisfied: requests[socks] in /Users/nonaghazizadeh/opt/anaconda3/lib/python3.9/site-packages (from gdown) (2.27.1)\n",
      "Requirement already satisfied: six in /Users/nonaghazizadeh/opt/anaconda3/lib/python3.9/site-packages (from gdown) (1.15.0)\n",
      "Requirement already satisfied: soupsieve>1.2 in /Users/nonaghazizadeh/opt/anaconda3/lib/python3.9/site-packages (from beautifulsoup4->gdown) (2.3.1)\n",
      "Requirement already satisfied: idna<4,>=2.5 in /Users/nonaghazizadeh/opt/anaconda3/lib/python3.9/site-packages (from requests[socks]->gdown) (3.3)\n",
      "Requirement already satisfied: certifi>=2017.4.17 in /Users/nonaghazizadeh/opt/anaconda3/lib/python3.9/site-packages (from requests[socks]->gdown) (2021.10.8)\n",
      "Requirement already satisfied: urllib3<1.27,>=1.21.1 in /Users/nonaghazizadeh/opt/anaconda3/lib/python3.9/site-packages (from requests[socks]->gdown) (1.26.9)\n",
      "Requirement already satisfied: charset-normalizer~=2.0.0 in /Users/nonaghazizadeh/opt/anaconda3/lib/python3.9/site-packages (from requests[socks]->gdown) (2.0.4)\n",
      "Requirement already satisfied: PySocks!=1.5.7,>=1.5.6 in /Users/nonaghazizadeh/opt/anaconda3/lib/python3.9/site-packages (from requests[socks]->gdown) (1.7.1)\n",
      "Installing collected packages: gdown\n",
      "Successfully installed gdown-4.7.1\n"
     ]
    }
   ],
   "source": [
    "!pip install hazm\n",
    "!pip install gdown"
   ]
  },
  {
   "cell_type": "code",
   "execution_count": 2,
   "metadata": {
    "id": "Ron_ot5QJ9Iu"
   },
   "outputs": [],
   "source": [
    "from __future__ import unicode_literals\n",
    "import re\n",
    "from hazm import *\n",
    "import json\n",
    "import gdown"
   ]
  },
  {
   "cell_type": "code",
   "execution_count": 3,
   "metadata": {
    "id": "-3_jkKfUDAyh"
   },
   "outputs": [],
   "source": [
    "normalizer = Normalizer()\n",
    "stemmer = Stemmer()\n",
    "lemmatizer = Lemmatizer()"
   ]
  },
  {
   "cell_type": "code",
   "execution_count": 4,
   "metadata": {
    "colab": {
     "base_uri": "https://localhost:8080/",
     "height": 104
    },
    "id": "diqTaeDQuu2M",
    "outputId": "64fbdb72-9fe0-4255-ae3c-bb0e1927dbee"
   },
   "outputs": [
    {
     "name": "stderr",
     "output_type": "stream",
     "text": [
      "Downloading...\n",
      "From: https://drive.google.com/uc?id=12QXnsKtysJzs9r0W-ONMSAMnNuxS8hAa\n",
      "To: /Users/nonaghazizadeh/Desktop/Nona/semester8/natural language processing/assignments/HW2/abbreviation.json\n",
      "100%|██████████████████████████████████████| 14.5k/14.5k [00:00<00:00, 22.8kB/s]\n"
     ]
    },
    {
     "data": {
      "text/plain": [
       "'abbreviation.json'"
      ]
     },
     "execution_count": 4,
     "metadata": {},
     "output_type": "execute_result"
    }
   ],
   "source": [
    "url = \"https://drive.google.com/uc?id=12QXnsKtysJzs9r0W-ONMSAMnNuxS8hAa\"\n",
    "output = \"abbreviation.json\"\n",
    "gdown.download(url, output, quiet=False)"
   ]
  },
  {
   "cell_type": "code",
   "execution_count": 5,
   "metadata": {
    "id": "FnsAEOpCuMKW"
   },
   "outputs": [],
   "source": [
    "with open('abbreviation.json', 'r') as file:\n",
    "    abbreviation = json.load(file)"
   ]
  },
  {
   "cell_type": "code",
   "execution_count": 6,
   "metadata": {
    "id": "EqJ_Bs1DQHOr"
   },
   "outputs": [],
   "source": [
    "persian_numbers = '۱۲۳۴۵۶۷۸۹۰'\n",
    "english_numbers = '1234567890'\n",
    "english_trans = str.maketrans(persian_numbers, english_numbers)"
   ]
  },
  {
   "cell_type": "code",
   "execution_count": 7,
   "metadata": {
    "id": "9fsaRgB0NLL8"
   },
   "outputs": [],
   "source": [
    "def find_persian(string: str):\n",
    "    return \"\".join(re.findall(r\"[\\u0600-\\u06FF]+\", string))"
   ]
  },
  {
   "cell_type": "code",
   "execution_count": 8,
   "metadata": {
    "id": "SAjJf2lb08L2"
   },
   "outputs": [],
   "source": [
    "def print_illegal_words(input, ill_words):\n",
    "  if len(ill_words) > 0:\n",
    "    print('Without any space between each word: ')\n",
    "    print()\n",
    "  for w in ill_words:\n",
    "    complete_word = ill_words[w]\n",
    "    index = input.find(complete_word)\n",
    "    print('word: \\\"' + w + '\\\"')\n",
    "    print(f'span: ({index}, {index + len(complete_word)})')\n",
    "    print()"
   ]
  },
  {
   "cell_type": "code",
   "execution_count": 9,
   "metadata": {
    "id": "_igXQtvZ1e43"
   },
   "outputs": [],
   "source": [
    "def find_words_ignoring_spaces(splitted_input, transfered_words):\n",
    "  found_spaced_ill_words = {}\n",
    "  for i in range(len(transfered_words) - 1):\n",
    "    w1 = transfered_words[i]\n",
    "    w2 = transfered_words[i + 1]\n",
    "    word = w1 + w2\n",
    "    if word in illegal_words:\n",
    "      found_spaced_ill_words[word] = input[input.find(splitted_input[i]): input.find(splitted_input[i + 1])] + w2\n",
    "  return found_spaced_ill_words"
   ]
  },
  {
   "cell_type": "code",
   "execution_count": 10,
   "metadata": {
    "id": "scq81XQl21vQ"
   },
   "outputs": [],
   "source": [
    "def print_illegal_words_space(found_spaced_ill_words):\n",
    "  if len(found_spaced_ill_words) > 0:\n",
    "    print()\n",
    "    print('With white space between each word: ')\n",
    "    print()\n",
    "  for w in found_spaced_ill_words:\n",
    "    complete_word = found_spaced_ill_words[w]\n",
    "    index = input.find(complete_word)\n",
    "    print('word: \\\"' + w + '\\\"')\n",
    "    print(f'span: ({index}, {index + len(complete_word)})')\n",
    "    print()"
   ]
  },
  {
   "cell_type": "code",
   "execution_count": null,
   "metadata": {
    "id": "Yo1NT9VtKMw4"
   },
   "outputs": [],
   "source": [
    "def run(input: str, illegal_words: list):\n",
    "  status = 1\n",
    "  \n",
    "  splitted_input = input.split()\n",
    "  # normalizer = Normalizer()\n",
    "  # normilized_input = normalizer.normalize(input)\n",
    "  # tokenized_word_input = word_tokenize(normilized_input)\n",
    "\n",
    "  found_ill_words = {}\n",
    "  transfered_words = []\n",
    "  actual_words = []\n",
    "  for word in splitted_input:\n",
    "    modified_word = str(word).translate(english_trans)\n",
    "    transfered_word = find_persian(modified_word)\n",
    "    transfered_words.append(transfered_word)\n",
    "    normalized_word = normalizer.normalize(transfered_word)\n",
    "    if transfered_word in illegal_words or transfered_word in abbreviation or normalized_word in illegal_words:\n",
    "      found_ill_words[transfered_word] = word\n",
    "  print(transfered_words)\n",
    "  print_illegal_words(input, found_ill_words)\n",
    "\n",
    "  if status == 1:\n",
    "    found_spaced_ill_words = find_words_ignoring_spaces(splitted_input, transfered_words)\n",
    "    print_illegal_words_space(found_spaced_ill_words)"
   ]
  },
  {
   "cell_type": "code",
   "execution_count": null,
   "metadata": {
    "colab": {
     "base_uri": "https://localhost:8080/"
    },
    "id": "4Xomxby44WpQ",
    "outputId": "6a8bda43-1b55-49f6-fd92-a72505552d45"
   },
   "outputs": [
    {
     "name": "stdout",
     "output_type": "stream",
     "text": [
      "\n",
      "With white space between each word: \n",
      "\n",
      "word: \"تفنگ\"\n",
      "span: (4, 15)\n",
      "\n"
     ]
    }
   ],
   "source": [
    "input = \"این &تف...ن۸# گ را فروختم\"\n",
    "illegal_words = ['تفنگ']\n",
    "run(input, illegal_words)"
   ]
  },
  {
   "cell_type": "markdown",
   "metadata": {
    "id": "FLvIcIawPYd9"
   },
   "source": [
    "# TEST:"
   ]
  },
  {
   "cell_type": "markdown",
   "metadata": {
    "id": "6XSI4TmO12eV"
   },
   "source": [
    "## Test without space in each word:"
   ]
  },
  {
   "cell_type": "markdown",
   "metadata": {
    "id": "7u9UzCTrRcZp"
   },
   "source": [
    "Test 1:"
   ]
  },
  {
   "cell_type": "code",
   "execution_count": null,
   "metadata": {
    "colab": {
     "base_uri": "https://localhost:8080/"
    },
    "id": "0E578tIONdy8",
    "outputId": "5ea9f479-34c2-4d81-8ad8-1883a76b4e09"
   },
   "outputs": [
    {
     "name": "stdout",
     "output_type": "stream",
     "text": [
      "Without any space between each word: \n",
      "\n",
      "word: \"تفنگ\"\n",
      "span: (4, 14)\n",
      "\n"
     ]
    }
   ],
   "source": [
    "input = \"این &تف...ن۸گ# را فروختم\"\n",
    "illegal_words = ['تفنگ']\n",
    "run(input, illegal_words)"
   ]
  },
  {
   "cell_type": "markdown",
   "metadata": {
    "id": "Ho2koAZWRfxu"
   },
   "source": [
    "Test 2:"
   ]
  },
  {
   "cell_type": "code",
   "execution_count": null,
   "metadata": {
    "colab": {
     "base_uri": "https://localhost:8080/"
    },
    "id": "KP6_wGRAP25r",
    "outputId": "e723dcc4-046f-457a-b1b9-c3bb5a0bfcb0"
   },
   "outputs": [
    {
     "name": "stdout",
     "output_type": "stream",
     "text": [
      "Without any space between each word: \n",
      "\n",
      "word: \"قاشق\"\n",
      "span: (3, 10)\n",
      "\n",
      "word: \"چنگال\"\n",
      "span: (13, 22)\n",
      "\n"
     ]
    }
   ],
   "source": [
    "input = \"با ق*aاbشق و fچ^!نگ4ال غذا خوردم.\"\n",
    "illegal_words = ['قاشق', 'چنگال']\n",
    "run(input, illegal_words)"
   ]
  },
  {
   "cell_type": "code",
   "execution_count": null,
   "metadata": {
    "colab": {
     "base_uri": "https://localhost:8080/"
    },
    "id": "uCXQkOFDT3KZ",
    "outputId": "52b3b03f-e97c-47ae-b3c8-30f4eee073d7"
   },
   "outputs": [
    {
     "name": "stdout",
     "output_type": "stream",
     "text": [
      "True\n"
     ]
    },
    {
     "data": {
      "application/vnd.google.colaboratory.intrinsic+json": {
       "type": "string"
      },
      "text/plain": [
       "'fچ^!نگ4ال'"
      ]
     },
     "execution_count": 18,
     "metadata": {},
     "output_type": "execute_result"
    }
   ],
   "source": [
    "input = \"با ق*aاbشق و fچ^!نگ4ال غذا خوردم.\"\n",
    "print(find_persian(input[14:23]) in illegal_words)\n",
    "input[13:22]"
   ]
  },
  {
   "cell_type": "markdown",
   "metadata": {
    "id": "p_YrAirA177p"
   },
   "source": [
    "## Test with space in each word:"
   ]
  },
  {
   "cell_type": "markdown",
   "metadata": {
    "id": "3dS3ONtl3V61"
   },
   "source": [
    "Test 1:"
   ]
  },
  {
   "cell_type": "code",
   "execution_count": null,
   "metadata": {
    "colab": {
     "base_uri": "https://localhost:8080/"
    },
    "id": "oLSyrTyp1-6s",
    "outputId": "09b9a740-ed56-496b-906f-03e01fc7d7b9"
   },
   "outputs": [
    {
     "name": "stdout",
     "output_type": "stream",
     "text": [
      "Without any space between each word: \n",
      "\n",
      "word: \"سنگاپور\"\n",
      "span: (32, 47)\n",
      "\n",
      "\n",
      "With white space between each word: \n",
      "\n",
      "word: \"تفنگ\"\n",
      "span: (4, 15)\n",
      "\n",
      "word: \"احمد\"\n",
      "span: (22, 28)\n",
      "\n"
     ]
    }
   ],
   "source": [
    "input = \"این &تف...ن۸# گ را به اح* مد تو سنگ7%#3!8..اپور   فروختم\"\n",
    "illegal_words = ['سنگاپور', 'تفنگ', 'احمد']\n",
    "run(input, illegal_words)"
   ]
  },
  {
   "cell_type": "markdown",
   "metadata": {
    "id": "Eu_c3nE1vhQu"
   },
   "source": [
    "## Test with abbreviation in text:"
   ]
  },
  {
   "cell_type": "code",
   "execution_count": null,
   "metadata": {
    "colab": {
     "base_uri": "https://localhost:8080/"
    },
    "id": "0A3tmwROvlo-",
    "outputId": "501c9e50-180b-4ce0-d476-2d11eb58435e"
   },
   "outputs": [
    {
     "name": "stdout",
     "output_type": "stream",
     "text": [
      "Without any space between each word: \n",
      "\n",
      "word: \"آجا\"\n",
      "span: (4, 12)\n",
      "\n"
     ]
    }
   ],
   "source": [
    "input = \"این &آ...ج#ا را فروختم\"\n",
    "illegal_words = ['ارتش جمهوری اسلامی ایران']\n",
    "run(input, illegal_words)"
   ]
  },
  {
   "cell_type": "markdown",
   "metadata": {
    "id": "NdzHNf1xD0U7"
   },
   "source": [
    "## Test with normalizer:"
   ]
  },
  {
   "cell_type": "code",
   "execution_count": null,
   "metadata": {
    "colab": {
     "base_uri": "https://localhost:8080/"
    },
    "id": "5ROWloIUD27k",
    "outputId": "a1dad8e1-c604-48a8-9a8f-e4dcc93b76cd"
   },
   "outputs": [
    {
     "name": "stdout",
     "output_type": "stream",
     "text": [
      "['این', 'دیــگران', 'را', 'فروختم']\n",
      "Without any space between each word: \n",
      "\n",
      "word: \"دیــگران\"\n",
      "span: (4, 17)\n",
      "\n"
     ]
    }
   ],
   "source": [
    "input = \"این &دیــ...#گران را فروختم\"\n",
    "illegal_words = ['دیگران']\n",
    "run(input, illegal_words)"
   ]
  },
  {
   "cell_type": "code",
   "execution_count": null,
   "metadata": {
    "id": "iCpC-CL8ECwm"
   },
   "outputs": [],
   "source": []
  }
 ],
 "metadata": {
  "colab": {
   "collapsed_sections": [
    "6XSI4TmO12eV"
   ],
   "provenance": []
  },
  "kernelspec": {
   "display_name": "Python 3 (ipykernel)",
   "language": "python",
   "name": "python3"
  },
  "language_info": {
   "codemirror_mode": {
    "name": "ipython",
    "version": 3
   },
   "file_extension": ".py",
   "mimetype": "text/x-python",
   "name": "python",
   "nbconvert_exporter": "python",
   "pygments_lexer": "ipython3",
   "version": "3.9.12"
  }
 },
 "nbformat": 4,
 "nbformat_minor": 1
}
